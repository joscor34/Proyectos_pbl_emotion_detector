{
 "cells": [
  {
   "cell_type": "markdown",
   "id": "b2f5be5e-79bf-4458-850f-6e1f06d37414",
   "metadata": {},
   "source": [
    "# Creación de nuestro primer proyecto de análisis de datos"
   ]
  },
  {
   "cell_type": "code",
   "execution_count": 1,
   "id": "e8c8cd6d-e1a7-48fd-8f16-11278c57a99f",
   "metadata": {},
   "outputs": [],
   "source": [
    "import pandas as pd"
   ]
  },
  {
   "cell_type": "code",
   "execution_count": 15,
   "id": "ca057772-4d99-48d3-9a5d-212e6d3ab0fb",
   "metadata": {},
   "outputs": [],
   "source": [
    "mi_data_set = pd.read_csv('expanded_texto_emocion_dataset.csv')"
   ]
  },
  {
   "cell_type": "code",
   "execution_count": 18,
   "id": "fd95cf22-2819-4c4e-b99a-113f82b640d4",
   "metadata": {},
   "outputs": [
    {
     "data": {
      "text/html": [
       "<div>\n",
       "<style scoped>\n",
       "    .dataframe tbody tr th:only-of-type {\n",
       "        vertical-align: middle;\n",
       "    }\n",
       "\n",
       "    .dataframe tbody tr th {\n",
       "        vertical-align: top;\n",
       "    }\n",
       "\n",
       "    .dataframe thead th {\n",
       "        text-align: right;\n",
       "    }\n",
       "</style>\n",
       "<table border=\"1\" class=\"dataframe\">\n",
       "  <thead>\n",
       "    <tr style=\"text-align: right;\">\n",
       "      <th></th>\n",
       "      <th>Texto</th>\n",
       "      <th>Emoción</th>\n",
       "    </tr>\n",
       "  </thead>\n",
       "  <tbody>\n",
       "    <tr>\n",
       "      <th>0</th>\n",
       "      <td>¡Esa montaña rusa fue increíblemente emocionan...</td>\n",
       "      <td>Sorpresa</td>\n",
       "    </tr>\n",
       "    <tr>\n",
       "      <th>1</th>\n",
       "      <td>Gané la lotería y puedo comprar la casa de mis...</td>\n",
       "      <td>Felicidad</td>\n",
       "    </tr>\n",
       "    <tr>\n",
       "      <th>2</th>\n",
       "      <td>Perdí a mi mejor amigo, me siento muy solo.</td>\n",
       "      <td>Tristeza</td>\n",
       "    </tr>\n",
       "    <tr>\n",
       "      <th>3</th>\n",
       "      <td>Gané la lotería y puedo comprar la casa de mis...</td>\n",
       "      <td>Felicidad</td>\n",
       "    </tr>\n",
       "    <tr>\n",
       "      <th>4</th>\n",
       "      <td>No puedo soportar el olor de la comida descomp...</td>\n",
       "      <td>Asco</td>\n",
       "    </tr>\n",
       "    <tr>\n",
       "      <th>...</th>\n",
       "      <td>...</td>\n",
       "      <td>...</td>\n",
       "    </tr>\n",
       "    <tr>\n",
       "      <th>895</th>\n",
       "      <td>Perdí a mi mejor amigo, me siento muy solo. (V...</td>\n",
       "      <td>Tristeza</td>\n",
       "    </tr>\n",
       "    <tr>\n",
       "      <th>896</th>\n",
       "      <td>No puedo soportar el olor de la comida descomp...</td>\n",
       "      <td>Asco</td>\n",
       "    </tr>\n",
       "    <tr>\n",
       "      <th>897</th>\n",
       "      <td>No puedo creer que me hayan mentido de esa man...</td>\n",
       "      <td>Enojo</td>\n",
       "    </tr>\n",
       "    <tr>\n",
       "      <th>898</th>\n",
       "      <td>Perdí a mi mejor amigo, me siento muy solo. (V...</td>\n",
       "      <td>Tristeza</td>\n",
       "    </tr>\n",
       "    <tr>\n",
       "      <th>899</th>\n",
       "      <td>Escuchar esos ruidos por la noche me da mucho ...</td>\n",
       "      <td>Miedo</td>\n",
       "    </tr>\n",
       "  </tbody>\n",
       "</table>\n",
       "<p>900 rows × 2 columns</p>\n",
       "</div>"
      ],
      "text/plain": [
       "                                                 Texto    Emoción\n",
       "0    ¡Esa montaña rusa fue increíblemente emocionan...   Sorpresa\n",
       "1    Gané la lotería y puedo comprar la casa de mis...  Felicidad\n",
       "2          Perdí a mi mejor amigo, me siento muy solo.   Tristeza\n",
       "3    Gané la lotería y puedo comprar la casa de mis...  Felicidad\n",
       "4    No puedo soportar el olor de la comida descomp...       Asco\n",
       "..                                                 ...        ...\n",
       "895  Perdí a mi mejor amigo, me siento muy solo. (V...   Tristeza\n",
       "896  No puedo soportar el olor de la comida descomp...       Asco\n",
       "897  No puedo creer que me hayan mentido de esa man...      Enojo\n",
       "898  Perdí a mi mejor amigo, me siento muy solo. (V...   Tristeza\n",
       "899  Escuchar esos ruidos por la noche me da mucho ...      Miedo\n",
       "\n",
       "[900 rows x 2 columns]"
      ]
     },
     "execution_count": 18,
     "metadata": {},
     "output_type": "execute_result"
    }
   ],
   "source": [
    "mi_data_set"
   ]
  },
  {
   "cell_type": "code",
   "execution_count": null,
   "id": "e9eda103-b5e3-4ce8-b1c6-3e112387243c",
   "metadata": {},
   "outputs": [],
   "source": []
  }
 ],
 "metadata": {
  "kernelspec": {
   "display_name": "Python 3 (ipykernel)",
   "language": "python",
   "name": "python3"
  },
  "language_info": {
   "codemirror_mode": {
    "name": "ipython",
    "version": 3
   },
   "file_extension": ".py",
   "mimetype": "text/x-python",
   "name": "python",
   "nbconvert_exporter": "python",
   "pygments_lexer": "ipython3",
   "version": "3.11.8"
  }
 },
 "nbformat": 4,
 "nbformat_minor": 5
}
